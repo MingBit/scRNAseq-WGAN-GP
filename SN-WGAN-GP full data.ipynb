{
 "cells": [
  {
   "cell_type": "markdown",
   "metadata": {},
   "source": [
    "# Generative Adversarial Networks"
   ]
  },
  {
   "cell_type": "markdown",
   "metadata": {},
   "source": [
    "Added spectral normalization like: https://github.com/minhnhat93/tf-SNDCGAN"
   ]
  },
  {
   "cell_type": "code",
   "execution_count": 1,
   "metadata": {},
   "outputs": [
    {
     "name": "stdout",
     "output_type": "stream",
     "text": [
      "Populating the interactive namespace from numpy and matplotlib\n"
     ]
    }
   ],
   "source": [
    "import numpy as np\n",
    "import tensorflow as tf\n",
    "from libs.sn import spectral_normed_weight\n",
    "\n",
    "%pylab inline"
   ]
  },
  {
   "cell_type": "markdown",
   "metadata": {},
   "source": [
    "Load data"
   ]
  },
  {
   "cell_type": "code",
   "execution_count": 2,
   "metadata": {},
   "outputs": [
    {
     "name": "stdout",
     "output_type": "stream",
     "text": [
      "(6707, 1000)\n"
     ]
    },
    {
     "data": {
      "image/png": "[encoded data removed]",
      "text/plain": [
       "<matplotlib.figure.Figure at 0x11a26b550>"
      ]
     },
     "metadata": {},
     "output_type": "display_data"
    }
   ],
   "source": [
    "from numpy import genfromtxt\n",
    "#kasper_rank_matrix = genfromtxt('kasper_data_rank_normalised_top784_norownames.csv', delimiter=',', skip_header=1)\n",
    "#kasper_rank_matrix = genfromtxt('kasper_data_raw_top784_v2.csv', delimiter=',', skip_header=1)\n",
    "\n",
    "kasper_rank_matrix = genfromtxt('kasper_data_raw_full.csv', delimiter=',', skip_header=1)\n",
    "\n",
    "#only use first 1000 cells\n",
    "kasper_rank_matrix_unwitheld = kasper_rank_matrix\n",
    "kasper_rank_matrix = kasper_rank_matrix[:,0:1000]\n",
    "\n",
    "print(kasper_rank_matrix.shape)\n",
    "\n",
    "import matplotlib.pyplot as plt\n",
    "kasper_unprocessed_hst = np.hstack(kasper_rank_matrix)\n",
    "\n",
    "plt.hist(kasper_unprocessed_hst, bins=100, label='unprocessed_data') # arguments are passed to np.histogram\n",
    "plt.title(\"Histogram with 'auto' bins\")\n",
    "pyplot.legend(loc='upper right')\n",
    "plt.show()\n"
   ]
  },
  {
   "cell_type": "markdown",
   "metadata": {},
   "source": [
    "### Parameters"
   ]
  },
  {
   "cell_type": "code",
   "execution_count": 3,
   "metadata": {
    "collapsed": true
   },
   "outputs": [],
   "source": [
    "n_train_steps = 30\n",
    "batch_size = 256 #originally 128\n",
    "\n",
    "noise_input_size = 100\n",
    "inflate_to_size = 600\n",
    "gex_size = 6707\n",
    "\n",
    "disc_internal_size = 200"
   ]
  },
  {
   "cell_type": "markdown",
   "metadata": {},
   "source": [
    "### Generator network"
   ]
  },
  {
   "cell_type": "code",
   "execution_count": 4,
   "metadata": {
    "collapsed": true
   },
   "outputs": [],
   "source": [
    "def lrelu(x):\n",
    "    return tf.maximum(x, 0.2 * x)\n",
    "\n",
    "z = tf.placeholder(tf.float32, shape=(None, noise_input_size))\n",
    "g_w1 = tf.get_variable(\"g_w1\", [noise_input_size,inflate_to_size], initializer=tf.random_uniform_initializer(-0.05, 0.05),\n",
    "                      regularizer=tf.contrib.layers.l2_regularizer(0.8))\n",
    "g_b1 = tf.get_variable(\"g_b1\", [inflate_to_size], initializer=tf.constant_initializer(0.1))\n",
    "g_w2 = tf.get_variable(\"g_w2\", [inflate_to_size,inflate_to_size], initializer=tf.random_uniform_initializer(-0.05, 0.05),\n",
    "                       regularizer=tf.contrib.layers.l2_regularizer(0.8))\n",
    "g_b2 = tf.get_variable(\"g_b2\", [inflate_to_size], initializer=tf.constant_initializer(0.1))\n",
    "g_w3 = tf.get_variable(\"g_w3\", [inflate_to_size, gex_size], initializer=tf.random_uniform_initializer(-0.05, 0.05),\n",
    "                       regularizer=tf.contrib.layers.l2_regularizer(0.8))\n",
    "g_b3 = tf.get_variable(\"g_b3\", [gex_size], initializer=tf.constant_initializer(0.1))\n",
    "\n",
    "g_params = [g_w1, g_b1, g_w2, g_b2, g_w3, g_b3]\n",
    "\n",
    "def generator(z):\n",
    "    g_y1 = lrelu(tf.matmul(z, g_w1) + g_b1)\n",
    "    g_y2 = lrelu(tf.matmul(g_y1, g_w2) + g_b2)\n",
    "    G = tf.nn.relu(tf.matmul(g_y2, g_w3) + g_b3)\n",
    "    \n",
    "    #tensorboard\n",
    "    tf.summary.histogram('layer1/g_y1', g_y1)\n",
    "    tf.summary.histogram('layer2/g_y2', g_y2)\n",
    "    tf.summary.histogram('layer3/out', G)\n",
    "    return G"
   ]
  },
  {
   "cell_type": "markdown",
   "metadata": {},
   "source": [
    "### Latent vector / noise input\n",
    "\n",
    "Poisson noise (count data) + Gaussian (other artefacts)"
   ]
  },
  {
   "cell_type": "code",
   "execution_count": 22,
   "metadata": {},
   "outputs": [
    {
     "data": {
      "image/png": "[encoded data removed]",
      "text/plain": [
       "<matplotlib.figure.Figure at 0x12c726310>"
      ]
     },
     "metadata": {},
     "output_type": "display_data"
    },
    {
     "data": {
      "image/png": "[encoded data removed]",
      "text/plain": [
       "<matplotlib.figure.Figure at 0x123c78650>"
      ]
     },
     "metadata": {},
     "output_type": "display_data"
    }
   ],
   "source": [
    "#changed so that max value in noise generation prior is max value of data\n",
    "\n",
    "import matplotlib.pyplot as plt\n",
    "count, bins, ignored = plt.hist(s, 14, normed=True)\n",
    "plt.show()\n",
    "\n",
    "data_max_value = numpy.amax(kasper_rank_matrix)\n",
    "\n",
    "def noise_prior(batch_size, dim):\n",
    "    temp_norm = np.random.normal(0.0, data_max_value/10, size=(batch_size, dim))\n",
    "    temp_poisson = np.random.poisson(1, size=(batch_size, dim))\n",
    "    return np.abs(temp_norm + temp_poisson)\n",
    "\n",
    "        \n",
    "example_noise_batch = noise_prior(100, 100)\n",
    "count, bins, ignored = plt.hist(example_noise_batch, 14, normed=True)\n",
    "plt.show()\n"
   ]
  },
  {
   "cell_type": "markdown",
   "metadata": {},
   "source": [
    "### Discriminator network"
   ]
  },
  {
   "cell_type": "code",
   "execution_count": 6,
   "metadata": {},
   "outputs": [],
   "source": [
    "x = tf.placeholder(tf.float32, shape=(None, gex_size))\n",
    "d_w1 = tf.get_variable(\"d_w1\", [gex_size,disc_internal_size], initializer=tf.random_uniform_initializer(-0.005, 0.005),\n",
    "                       regularizer=tf.contrib.layers.l2_regularizer(0.8))\n",
    "d_b1 = tf.get_variable(\"d_b1\", [disc_internal_size], initializer=tf.constant_initializer(0.1))\n",
    "d_w2 = tf.get_variable(\"d_w2\", [disc_internal_size,disc_internal_size], initializer=tf.random_uniform_initializer(-0.005,0.005),\n",
    "                       regularizer=tf.contrib.layers.l2_regularizer(0.8))\n",
    "d_b2 = tf.get_variable(\"d_b2\", [disc_internal_size], initializer=tf.constant_initializer(0.1))\n",
    "d_w3 = tf.get_variable(\"d_w3\", [disc_internal_size,1], initializer=tf.random_uniform_initializer(-0.005,0.005),\n",
    "                       regularizer=tf.contrib.layers.l2_regularizer(0.8))\n",
    "d_b3 = tf.get_variable(\"d_b3\", [1], initializer=tf.constant_initializer(0.1))\n",
    "\n",
    "d_params = [d_w1, d_b1, d_w2, d_b2, d_w3, d_b3]\n",
    "\n",
    "clip_d = None\n",
    "\n",
    "def discriminator(x):\n",
    "    \n",
    "    d_y1 = lrelu(tf.matmul(x, d_w1) + d_b1)\n",
    "    d_y2 = lrelu(tf.matmul(d_y1, d_w2) + d_b2)\n",
    "    D = tf.matmul(d_y2, d_w3) + d_b3\n",
    "\n",
    "    weights_d1 = tf.summary.histogram('d_layer1/d_w1_bar', d_w1)\n",
    "    weights_d2 = tf.summary.histogram('d_layer2/d_w2_bar', d_w2)\n",
    "    weights_d3 = tf.summary.histogram('d_layer3/d_w3_bar', d_w3)\n",
    "\n",
    "    bias_d1 = tf.summary.histogram('d_layer1/d_b1', d_b1)\n",
    "    bias_d2 = tf.summary.histogram('d_layer2/d_b2', d_b2)\n",
    "    bias_d3 = tf.summary.histogram('d_layer3/d_b3', d_b3)\n",
    "\n",
    "    tf.summary.histogram('d_layer1/d_y1', d_y1)\n",
    "    tf.summary.histogram('d_layer2/d_y2', d_y2)\n",
    "    tf.summary.histogram('d_layer3/D', D)\n",
    "    \n",
    "    return D\n",
    "\n"
   ]
  },
  {
   "cell_type": "markdown",
   "metadata": {},
   "source": [
    "Define the outputs we're going to train."
   ]
  },
  {
   "cell_type": "code",
   "execution_count": 7,
   "metadata": {},
   "outputs": [],
   "source": [
    "G = generator(z)\n",
    "D_real = discriminator(x)\n",
    "D_fake = discriminator(G)"
   ]
  },
  {
   "cell_type": "markdown",
   "metadata": {},
   "source": [
    "### Training Objectives"
   ]
  },
  {
   "cell_type": "markdown",
   "metadata": {},
   "source": [
    "Changed for Wasserstein distance/objectives and added gradient penalty.\n",
    "NB: Need to tune parameter LAMBDA"
   ]
  },
  {
   "cell_type": "code",
   "execution_count": 9,
   "metadata": {
    "collapsed": true
   },
   "outputs": [],
   "source": [
    "LAMBDA = 10 # Gradient penalty lambda hyperparameter\n",
    "\n",
    "obj_d = tf.reduce_mean(D_fake) - tf.reduce_mean(D_real)\n",
    "obj_g = -tf.reduce_mean(D_fake)\n",
    "\n",
    "##### need to expand shape of alpha?\n",
    "\n",
    "alpha = tf.random_uniform(\n",
    "    shape=[batch_size,gex_size], \n",
    "    minval=0.,\n",
    "    maxval=1.\n",
    ")\n",
    "\n",
    "differences = D_fake - D_real\n",
    "interpolates = D_real + (alpha*differences)\n",
    "gradients = tf.gradients(discriminator(interpolates), [interpolates])[0]\n",
    "slopes = tf.sqrt(tf.reduce_sum(tf.square(gradients), reduction_indices=[1]))\n",
    "gradient_penalty = tf.reduce_mean((slopes-1.)**2)\n",
    "obj_d += LAMBDA*gradient_penalty"
   ]
  },
  {
   "cell_type": "code",
   "execution_count": 10,
   "metadata": {},
   "outputs": [],
   "source": [
    "def exp_decay(initial_rate, step, decay_factor, min_lr):\n",
    "    return tf.maximum(initial_rate / tf.pow(decay_factor, tf.to_float(step)), min_lr)\n",
    "\n",
    "def momentum_adjustor(initial_momentum, step, final_momentum, saturation_point):\n",
    "    m = initial_momentum + (final_momentum - initial_momentum) * (tf.to_float(step) / saturation_point)\n",
    "    return tf.minimum(m, final_momentum)\n",
    "\n",
    "time_step = tf.placeholder(tf.int32)\n",
    "\n",
    "d_batch = tf.Variable(0, trainable=False)\n",
    "d_learning_rate = exp_decay(0.01, time_step, 1.000004, 0.000001)\n",
    "d_momentum = momentum_adjustor(0.5, d_batch, 0.7, 250)\n",
    "#opt_d = tf.train.MomentumOptimizer(d_learning_rate, d_momentum).minimize(obj_d, var_list=d_params, global_step=d_batch)\n",
    "opt_d = tf.train.RMSPropOptimizer(learning_rate=5e-5).minimize(obj_d, var_list=d_params)\n",
    "\n",
    "g_batch = tf.Variable(0, trainable=False)\n",
    "g_learning_rate = exp_decay(0.01, time_step, 1.000004, 0.000001)\n",
    "g_momentum = momentum_adjustor(0.5, g_batch, 0.7, 250)\n",
    "#opt_g = tf.train.MomentumOptimizer(g_learning_rate, g_momentum).minimize(obj_g, var_list=g_params, global_step=g_batch)\n",
    "opt_g = tf.train.RMSPropOptimizer(learning_rate=5e-5).minimize(obj_g, var_list=g_params)\n",
    "\n",
    "d_momentum_summary = tf.summary.scalar('d_momentum', d_momentum)\n",
    "g_momentum_summary = tf.summary.scalar('g_momentum', g_momentum)\n",
    "d_learning_rate_summary = tf.summary.scalar('d_learning_rate', d_learning_rate)\n",
    "g_learning_rate_summary = tf.summary.scalar('g_learning_rate', g_learning_rate)\n",
    "obj_d_summary = tf.summary.scalar('obj_d', obj_d)\n",
    "obj_g_summary = tf.summary.scalar('obj_g', obj_g)\n",
    "\n",
    "weights_g1 = tf.summary.histogram('layer1/g_w1', g_w1)\n",
    "weights_g2 = tf.summary.histogram('layer2/g_w2', g_w2)\n",
    "weights_g3 = tf.summary.histogram('layer3/g_w3', g_w3)\n",
    "\n",
    "bias_g1 = tf.summary.histogram('layer1/g_b1', g_b1)\n",
    "bias_g2 = tf.summary.histogram('layer2/g_b2', g_b2)\n",
    "bias_g3 = tf.summary.histogram('layer3/g_b3', g_b3)\n"
   ]
  },
  {
   "cell_type": "markdown",
   "metadata": {},
   "source": [
    "### Training"
   ]
  },
  {
   "cell_type": "code",
   "execution_count": 12,
   "metadata": {},
   "outputs": [
    {
     "name": "stdout",
     "output_type": "stream",
     "text": [
      "Initial run\n",
      "0.0 No. steps: 1\n",
      "0.1 No. steps: 3\n",
      "0.2 No. steps: 5\n",
      "0.3 No. steps: 7\n",
      "0.4 No. steps: 9\n",
      "0.5 No. steps: 11\n",
      "0.6 No. steps: 13\n",
      "0.7 No. steps: 15\n",
      "0.8 No. steps: 17\n",
      "0.9 No. steps: 19\n",
      "Model saved in file: ./models/SN-WGAN-GP_v1.ckpt\n"
     ]
    }
   ],
   "source": [
    "n_train_steps = 20\n",
    "\n",
    "initial_run = True\n",
    "model_to_use = \"./models/SN-WGAN-GP_v1.ckpt\"\n",
    "\n",
    "global_step = tf.Variable(0, name='global_step', trainable=False, dtype=tf.int32)\n",
    "\n",
    "sess=tf.InteractiveSession()\n",
    "merged = tf.summary.merge_all()\n",
    "train_writer = tf.summary.FileWriter(\"./summaries/SN-WGAN-GP_v1\", sess.graph)\n",
    "saver = tf.train.Saver()\n",
    "init = tf.global_variables_initializer().run()\n",
    "\n",
    "if initial_run:\n",
    "    print(\"Initial run\")\n",
    "    assign_step_zero = tf.assign(global_step, 0)\n",
    "    init_step = sess.run(assign_step_zero)\n",
    "    \n",
    "if not initial_run:\n",
    "    saver.restore(sess, model_to_use)\n",
    "\n",
    "for i in range(n_train_steps):\n",
    "    #increment global step\n",
    "    increment_global_step_op = tf.assign(global_step, global_step+1)\n",
    "    step = sess.run(increment_global_step_op)\n",
    "    \n",
    "    current_step = sess.run(global_step)\n",
    "    \n",
    "    #replace below with our data\n",
    "    #x_data, t_data = mnist.train.next_batch(batch_size)\n",
    "    idx = np.random.randint(kasper_rank_matrix.shape[1], size=batch_size)\n",
    "\n",
    "    x_data = kasper_rank_matrix[:,idx]\n",
    "    x_data = np.transpose(x_data)\n",
    "    \n",
    "    noise = noise_prior(batch_size, 100)\n",
    "    \n",
    "    #train discriminator more\n",
    "    for j in range(5):\n",
    "        _, summary = sess.run([opt_d, merged], {x : x_data, z : noise, time_step : current_step})\n",
    "        train_writer.add_summary(summary, current_step)\n",
    "        \n",
    "    sess.run([opt_g], {z : noise, time_step : current_step})\n",
    "    \n",
    "    if i % (n_train_steps/10) == 0:\n",
    "        print str(float(i)/n_train_steps) + \" No. steps: \" + str(current_step)\n",
    "        intermediate_save_path = saver.save(sess, model_to_use, global_step=current_step)\n",
    "\n",
    "save_path = saver.save(sess, model_to_use)\n",
    "print(\"Model saved in file: %s\" % save_path)"
   ]
  },
  {
   "cell_type": "markdown",
   "metadata": {},
   "source": [
    "### IMPROVEMENTS\n",
    "1. How can we encourage output diversity?\n",
    "Introduce metric like mutual information? Also want replicates... don't want only random noise output"
   ]
  },
  {
   "cell_type": "markdown",
   "metadata": {},
   "source": [
    "### Generate cells after training"
   ]
  },
  {
   "cell_type": "code",
   "execution_count": 13,
   "metadata": {},
   "outputs": [
    {
     "name": "stdout",
     "output_type": "stream",
     "text": [
      "[[ 0.02118354  0.29054052  0.06983618 ...,  0.          0.          0.06414319]\n",
      " [ 0.          0.18146288  0.09872191 ...,  0.          0.          0.        ]\n",
      " [ 0.13324983  0.21247384  0.         ...,  0.          0.          0.18453041]\n",
      " ..., \n",
      " [ 0.          0.05195437  0.19492951 ...,  0.          0.          0.27465633]\n",
      " [ 0.08467586  0.06577779  0.24459353 ...,  0.          0.          0.13367666]\n",
      " [ 0.03910808  0.2211208   0.13846901 ...,  0.          0.04907172\n",
      "   0.1945115 ]]\n"
     ]
    }
   ],
   "source": [
    "#Generate 100 cells\n",
    "\n",
    "gen_cells = sess.run(G, {z : noise_prior(1, 100)})\n",
    "\n",
    "for cell in range(0,499):\n",
    "    out_gen_temp = sess.run(G, {z : noise_prior(1, 100)})\n",
    "    gen_cells = numpy.append(gen_cells, out_gen_temp, axis=0)\n",
    "\n",
    "gen_cells = gen_cells\n",
    "\n",
    "print(gen_cells)"
   ]
  },
  {
   "cell_type": "markdown",
   "metadata": {},
   "source": [
    "### Examine correlations between gen. cells and real cells"
   ]
  },
  {
   "cell_type": "code",
   "execution_count": 18,
   "metadata": {},
   "outputs": [
    {
     "name": "stdout",
     "output_type": "stream",
     "text": [
      "(1000, 1000)\n",
      "(500, 500)\n"
     ]
    },
    {
     "data": {
      "image/png": "[encoded data removed]",
      "text/plain": [
       "<matplotlib.figure.Figure at 0x123da9e90>"
      ]
     },
     "metadata": {},
     "output_type": "display_data"
    },
    {
     "data": {
      "image/png": "[encoded data removed]",
      "text/plain": [
       "<matplotlib.figure.Figure at 0x1225b7690>"
      ]
     },
     "metadata": {},
     "output_type": "display_data"
    }
   ],
   "source": [
    "import matplotlib.pyplot as plt\n",
    "kasper_corr_mat = numpy.corrcoef(np.transpose(kasper_rank_matrix))\n",
    "gen_corr_mat = numpy.corrcoef(gen_cells)\n",
    "\n",
    "print(kasper_corr_mat.shape)\n",
    "print(gen_corr_mat.shape)\n",
    "\n",
    "kasper_hst = np.hstack(kasper_corr_mat)\n",
    "gen_hst = np.hstack(gen_corr_mat)\n",
    "\n",
    "#generated cells vs real cells\n",
    "gen_real_corr_mat = np.corrcoef(gen_cells, np.transpose(kasper_rank_matrix))\n",
    "gen_real_corr_mat_hst = np.hstack(gen_real_corr_mat)\n",
    "\n",
    "#generated cells vs real cells including unwitheld\n",
    "gen_real_corr_mat_unwitheld = np.corrcoef(gen_cells, np.transpose(kasper_rank_matrix_unwitheld))\n",
    "gen_real_corr_mat_unwitheld_hst = np.hstack(gen_real_corr_mat_unwitheld)\n",
    "\n",
    "#generated cells vs generated cells\n",
    "gen_only_corr_mat = np.corrcoef(gen_cells, gen_cells)\n",
    "gen_only_hst = np.hstack(gen_only_corr_mat)\n",
    "\n",
    "plt.hist(kasper_hst, bins='auto', alpha=0.3, label='real_corr', color=\"red\")\n",
    "plt.hist(gen_real_corr_mat_hst, bins='auto', alpha=0.3, label='gen_real_corr', color=\"green\") # arguments are passed to np.histogram\n",
    "plt.hist(gen_real_corr_mat_unwitheld_hst, bins='auto', alpha=0.3, label='gen_real_corr_unwth', color=\"black\") # arguments are passed to np.histogram\n",
    "plt.hist(gen_only_hst, bins='auto', alpha=0.3, label='gen_only_corr', color=\"blue\") # arguments are passed to np.histogram\n",
    "plt.title(\"All corr matrix\")\n",
    "pyplot.legend(loc='upper right')\n",
    "savefig(\"correlation_histogram.pdf\")\n",
    "plt.show()\n",
    "\n",
    "#plt.hist(kasper_hst, bins='auto', alpha=0.3, label='real_corr')\n",
    "#plt.hist(gen_hst, bins='auto', alpha=0.3, label='gen_real_corr') # arguments are passed to np.histogram\n",
    "#plt.hist(gen_only_hst, bins='auto', alpha=0.3, label='gen_only_corr') # arguments are passed to np.histogram\n",
    "#plt.title(\"All corr matrix\")\n",
    "#pyplot.legend(loc='upper right')\n",
    "#plt.show()\n",
    "\n",
    "plt.hist(gen_only_hst, bins='auto', alpha=0.3, label='gen_only_corr') # arguments are passed to np.histogram\n",
    "plt.title(\"Gen only corr matrix\")\n",
    "pyplot.legend(loc='upper right')\n",
    "plt.show()\n"
   ]
  },
  {
   "cell_type": "markdown",
   "metadata": {},
   "source": [
    "### Compare input (z) dist. and output dist."
   ]
  },
  {
   "cell_type": "code",
   "execution_count": 23,
   "metadata": {},
   "outputs": [
    {
     "data": {
      "image/png": "[encoded data removed]",
      "text/plain": [
       "<matplotlib.figure.Figure at 0x128beff50>"
      ]
     },
     "metadata": {},
     "output_type": "display_data"
    },
    {
     "data": {
      "image/png": "[encoded data removed]",
      "text/plain": [
       "<matplotlib.figure.Figure at 0x184be8810>"
      ]
     },
     "metadata": {},
     "output_type": "display_data"
    }
   ],
   "source": [
    "input_dist = np.hstack(numpy.ndarray.flatten(kasper_rank_matrix))\n",
    "\n",
    "plt.hist(input_dist, bins=100, label='gen_only_values') # arguments are passed to np.histogram\n",
    "plt.title(\"Input distribution\")\n",
    "pyplot.legend(loc='upper right')\n",
    "plt.show()\n",
    "\n",
    "gen_output_dist = np.hstack(numpy.ndarray.flatten(gen_cells))\n",
    "\n",
    "plt.hist(gen_output_dist, bins=100, label='gen_only_values') # arguments are passed to np.histogram\n",
    "plt.title(\"Gen output distribution\")\n",
    "pyplot.legend(loc='upper right')\n",
    "plt.show()"
   ]
  },
  {
   "cell_type": "markdown",
   "metadata": {
    "collapsed": true
   },
   "source": [
    "### tSNE to compare real and gen. cells"
   ]
  },
  {
   "cell_type": "code",
   "execution_count": null,
   "metadata": {},
   "outputs": [],
   "source": [
    "#Calc tSNE\n",
    "from sklearn.manifold import TSNE\n",
    "n_genes_cov = 500\n",
    "\n",
    "X = np.transpose(kasper_rank_matrix_unwitheld)\n",
    "\n",
    "data_cov = numpy.var(kasper_rank_matrix_unwitheld, axis=1)/numpy.mean(kasper_rank_matrix_unwitheld, axis=1)\n",
    "data_cov_index_desc = data_cov.argsort()[::-1][:n_genes_cov]\n",
    "\n",
    "print(X.shape)\n",
    "X = np.append(X, gen_cells, axis=0)\n",
    "X = X[:,data_cov_index_desc]\n",
    "print(X.shape)\n",
    "\n",
    "model = TSNE(n_components=2, random_state=0)\n",
    "np.set_printoptions(suppress=True)\n",
    "combined_tsne = model.fit_transform(X)\n"
   ]
  },
  {
   "cell_type": "code",
   "execution_count": null,
   "metadata": {},
   "outputs": [],
   "source": [
    "#Plot tSNE\n",
    "import matplotlib.cm as cm\n",
    "\n",
    "print(combined_tsne.shape)\n",
    "\n",
    "num_kasper_cells = kasper_rank_matrix_unwitheld.shape[1]\n",
    "num_gen_cells = gen_cells.shape[0]\n",
    "\n",
    "print(num_kasper_cells)\n",
    "print(num_gen_cells)\n",
    "print(num_kasper_cells-1000)\n",
    "\n",
    "#tsne_color = np.append(np.repeat(\"blue\",1000), np.repeat(\"green\",422), np.repeat(\"red\",num_gen_cells))\n",
    "tsne_color = np.concatenate([np.repeat(\"red\",1000), np.repeat(\"green\",422), np.repeat(\"blue\",num_gen_cells)])\n",
    "print(tsne_color.shape)\n",
    "plt.scatter(combined_tsne[:,0],combined_tsne[:,1], c=tsne_color)\n",
    "plt.show()"
   ]
  },
  {
   "cell_type": "markdown",
   "metadata": {},
   "source": [
    "### Visualise expression using heatmaps"
   ]
  },
  {
   "cell_type": "code",
   "execution_count": null,
   "metadata": {
    "scrolled": true
   },
   "outputs": [],
   "source": [
    "import matplotlib.pyplot as plt\n",
    "import numpy as np\n",
    "\n",
    "print(kasper_rank_matrix.shape)\n",
    "\n",
    "import seaborn as sns; sns.set()\n",
    "g = sns.clustermap(np.transpose(X))\n",
    "\n",
    "g = sns.clustermap(np.transpose(gen_cells[:,data_cov_index_desc]))"
   ]
  }
 ],
 "metadata": {
  "anaconda-cloud": {},
  "kernelspec": {
   "display_name": "Python 2",
   "language": "python",
   "name": "python2"
  },
  "language_info": {
   "codemirror_mode": {
    "name": "ipython",
    "version": 2
   },
   "file_extension": ".py",
   "mimetype": "text/x-python",
   "name": "python",
   "nbconvert_exporter": "python",
   "pygments_lexer": "ipython2",
   "version": "2.7.10"
  }
 },
 "nbformat": 4,
 "nbformat_minor": 1
}
